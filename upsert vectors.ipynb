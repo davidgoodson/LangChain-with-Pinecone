{
 "cells": [
  {
   "cell_type": "code",
   "execution_count": 1,
   "id": "7e1d420f-c1d4-4375-93dd-895640775b05",
   "metadata": {
    "tags": []
   },
   "outputs": [],
   "source": [
    "import os\n",
    "from dotenv import load_dotenv\n",
    "from langchain_community.document_loaders import PyPDFLoader\n",
    "from langchain_community.document_loaders import UnstructuredEPubLoader\n",
    "from langchain_openai import OpenAIEmbeddings\n",
    "\n",
    "import pinecone\n",
    "from pinecone import ServerlessSpec\n",
    "import time\n",
    "\n",
    "load_dotenv()\n",
    "os.environ['OPENAI_API_KEY'] = os.getenv(\"OPENAI_API_KEY\") #langchain searches for this key and loads it automatically"
   ]
  },
  {
   "cell_type": "code",
   "execution_count": 2,
   "id": "44e06128-4e47-413e-91ed-c63013544376",
   "metadata": {
    "tags": []
   },
   "outputs": [],
   "source": [
    "# Load PDF File\n",
    "loader = PyPDFLoader('./assets/srp-covid-19-6month.pdf')\n",
    "pdf = loader.load()"
   ]
  },
  {
   "cell_type": "code",
   "execution_count": 3,
   "id": "afa957d5-ba4f-4f60-bc55-6d8d79af91e4",
   "metadata": {
    "tags": []
   },
   "outputs": [],
   "source": [
    "# Transform pdf text into chunks and create document\n",
    "from langchain.text_splitter import RecursiveCharacterTextSplitter\n",
    "text_splitter = RecursiveCharacterTextSplitter(chunk_size=1000, chunk_overlap=200)\n",
    "documents = text_splitter.split_documents(pdf)"
   ]
  },
  {
   "cell_type": "code",
   "execution_count": 45,
   "id": "eac5a07f-765b-4383-9ecd-deda9b6b05b1",
   "metadata": {
    "tags": []
   },
   "outputs": [],
   "source": [
    "# Vector Embedding and Querying with ChromaDB\n",
    "from langchain_community.vectorstores import Chroma\n",
    "db = Chroma.from_documents(documents, OpenAIEmbeddings())\n",
    "\n",
    "# Vector database\n",
    "query = \"When was the first COVID case discovered in the united states?\" \n",
    "result = db.similarity_search(query)"
   ]
  },
  {
   "cell_type": "code",
   "execution_count": 46,
   "id": "f05cdc87-1bdf-4bdb-858e-67842a73d28c",
   "metadata": {
    "tags": []
   },
   "outputs": [],
   "source": [
    "# epub_loader = UnstructuredEPubLoader(\n",
    "#     file_path=\"./RAG/assets/dokumen.pub_beginning-python-from-novice-to-professional-3rd-edition.epub\", \n",
    "#     mode=\"elements\", \n",
    "#     strategy=\"fast\")\n"
   ]
  },
  {
   "cell_type": "code",
   "execution_count": 47,
   "id": "302b3fb5-71f8-4e82-baee-f565147b02d8",
   "metadata": {
    "tags": []
   },
   "outputs": [],
   "source": [
    "# Vector Embedding and Querying with Pinecone\n",
    "\n",
    "#Setting up pinecone\n",
    "pc = pinecone.Pinecone(api_key=os.getenv(\"PINECONE_API_KEY\"))\n",
    "\n",
    "    \n",
    "# Check if index exsits before creation\n",
    "index_name = \"rag-project\"\n",
    "if index_name not in [index.name for index in pc.list_indexes()]:\n",
    "    pc.create_index(\n",
    "        name=index_name, \n",
    "        dimension=1536, # Must match ada-002 output\n",
    "        metric=\"cosine\",\n",
    "        spec=ServerlessSpec(\n",
    "            cloud=\"aws\", \n",
    "            region=\"us-east-1\"\n",
    "        ) \n",
    "    )\n",
    "    time.sleep(5) # Wait for index to be ready\n",
    "    \n",
    "# Connect to the index\n",
    "index = pc.Index(index_name)\n"
   ]
  },
  {
   "cell_type": "code",
   "execution_count": null,
   "id": "aea4c49d-9a79-4c1d-9e2e-9e93c8953861",
   "metadata": {
    "tags": []
   },
   "outputs": [],
   "source": [
    "# Create embeddings using OpenAI \"text-embedding-ada-002\"\n",
    "embed_model = OpenAIEmbeddings(model=\"text-embedding-ada-002\")\n",
    "\n",
    "# Generate embeddings for documents\n",
    "docs = [doc.page_content for doc in documents]\n",
    "embeddings = embed_model.embed_documents(docs)"
   ]
  },
  {
   "cell_type": "code",
   "execution_count": 7,
   "id": "b211e216-41cb-49ec-9c44-5dbee310bc2d",
   "metadata": {
    "tags": []
   },
   "outputs": [
    {
     "data": {
      "text/plain": [
       "{'upserted_count': 202}"
      ]
     },
     "execution_count": 7,
     "metadata": {},
     "output_type": "execute_result"
    }
   ],
   "source": [
    "# Prepare data for insertion\n",
    "vectors = [(str(i), embeddings[i], {\"text\": docs[i]}) for i in range(len(docs))]\n",
    "\n",
    "# Insert into Pinecone\n",
    "index.upsert(vectors = vectors, namespace = \"all-users\")"
   ]
  }
 ],
 "metadata": {
  "kernelspec": {
   "display_name": "base",
   "language": "python",
   "name": "python3"
  },
  "language_info": {
   "codemirror_mode": {
    "name": "ipython",
    "version": 3
   },
   "file_extension": ".py",
   "mimetype": "text/x-python",
   "name": "python",
   "nbconvert_exporter": "python",
   "pygments_lexer": "ipython3",
   "version": "3.11.5"
  }
 },
 "nbformat": 4,
 "nbformat_minor": 5
}
