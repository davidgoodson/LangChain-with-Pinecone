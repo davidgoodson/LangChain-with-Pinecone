{
 "cells": [
  {
   "cell_type": "code",
   "execution_count": 27,
   "id": "7e1d420f-c1d4-4375-93dd-895640775b05",
   "metadata": {
    "tags": []
   },
   "outputs": [],
   "source": [
    "import os\n",
    "from dotenv import load_dotenv\n",
    "from langchain_community.document_loaders import PyPDFLoader\n",
    "from langchain_community.document_loaders import UnstructuredEPubLoader\n",
    "\n",
    "import pinecone\n",
    "from pinecone import ServerlessSpec\n",
    "import time\n",
    "\n",
    "load_dotenv()\n",
    "os.environ['OPENAI_API_KEY'] = os.getenv(\"OPENAI_API_KEY\") #langchain searches for this key and loads it automatically"
   ]
  },
  {
   "cell_type": "code",
   "execution_count": 4,
   "id": "44e06128-4e47-413e-91ed-c63013544376",
   "metadata": {
    "tags": []
   },
   "outputs": [],
   "source": [
    "# Load PDF File\n",
    "loader = PyPDFLoader('./RAG/assets/srp-covid-19-6month.pdf')\n",
    "pdf = loader.load()"
   ]
  },
  {
   "cell_type": "code",
   "execution_count": 5,
   "id": "afa957d5-ba4f-4f60-bc55-6d8d79af91e4",
   "metadata": {
    "tags": []
   },
   "outputs": [],
   "source": [
    "# Transform pdf texst into chunks and create document\n",
    "from langchain.text_splitter import RecursiveCharacterTextSplitter\n",
    "text_splitter = RecursiveCharacterTextSplitter(chunk_size=1000, chunk_overlap=200)\n",
    "documents = text_splitter.split_documents(pdf)"
   ]
  },
  {
   "cell_type": "code",
   "execution_count": 13,
   "id": "eac5a07f-765b-4383-9ecd-deda9b6b05b1",
   "metadata": {
    "tags": []
   },
   "outputs": [],
   "source": [
    "# Vector Embedding and Querying with ChromaDB\n",
    "from langchain_community.vectorstores import Chroma\n",
    "db = Chroma.from_documents(documents, OpenAIEmbeddings())\n",
    "\n",
    "# Vector database\n",
    "query = \"When was the first COVID case discovered in the united states?\" \n",
    "result = db.similarity_search(query)"
   ]
  },
  {
   "cell_type": "code",
   "execution_count": 21,
   "id": "f05cdc87-1bdf-4bdb-858e-67842a73d28c",
   "metadata": {
    "tags": []
   },
   "outputs": [],
   "source": [
    "# epub_loader = UnstructuredEPubLoader(\n",
    "#     file_path=\"./RAG/assets/dokumen.pub_beginning-python-from-novice-to-professional-3rd-edition.epub\", \n",
    "#     mode=\"elements\", \n",
    "#     strategy=\"fast\")\n"
   ]
  },
  {
   "cell_type": "code",
   "execution_count": 35,
   "id": "302b3fb5-71f8-4e82-baee-f565147b02d8",
   "metadata": {
    "tags": []
   },
   "outputs": [],
   "source": [
    "# Vector Embedding and Querying with Pinecone\n",
    "\n",
    "#Setting up pinecone\n",
    "pc = pinecone.Pinecone(api_key=os.getenv(\"PINECONE_API_KEY\"))\n",
    "\n",
    "    \n",
    "# Check if index exsits before creation\n",
    "index_name = \"rag-project\"\n",
    "if index_name not in [index.name for index in pc.list_indexes()]:\n",
    "    pc.create_index(\n",
    "        name=index_name, \n",
    "        dimension=1536, # Must match ada-002 output\n",
    "        metric=\"cosine\",\n",
    "        spec=ServerlessSpec(\n",
    "            cloud=\"aws\", \n",
    "            region=\"us-east-1\"\n",
    "        ) \n",
    "    )\n",
    "    time.sleep(5) # Wait for index to be ready\n",
    "    \n",
    "# Connect to the index\n",
    "index = pc.Index(index_name)\n"
   ]
  },
  {
   "cell_type": "code",
   "execution_count": 36,
   "id": "aea4c49d-9a79-4c1d-9e2e-9e93c8953861",
   "metadata": {
    "tags": []
   },
   "outputs": [],
   "source": [
    "# Create embeddings\n",
    "from langchain.embeddings.openai import OpenAIEmbeddings\n",
    "\n",
    "# Use \"text-embedding-ada-002\"\n",
    "embed_model = OpenAIEmbeddings(model=\"text-embedding-ada-002\")\n",
    "\n",
    "# Generate embeddings for documents\n",
    "docs = [doc.page_content for doc in documents]\n",
    "embeddings = embed_model.embed_documents(docs)"
   ]
  },
  {
   "cell_type": "code",
   "execution_count": 37,
   "id": "b211e216-41cb-49ec-9c44-5dbee310bc2d",
   "metadata": {
    "tags": []
   },
   "outputs": [
    {
     "data": {
      "text/plain": [
       "{'upserted_count': 202}"
      ]
     },
     "execution_count": 37,
     "metadata": {},
     "output_type": "execute_result"
    }
   ],
   "source": [
    "# Prepare data for insertion\n",
    "vectors = [(str(i), embeddings[i], {\"text\": docs[i]}) for i in range(len(docs))]\n",
    "\n",
    "# Insert into Pinecone\n",
    "index.upsert(vectors = vectors, namespace = \"all-users\")"
   ]
  },
  {
   "cell_type": "code",
   "execution_count": 42,
   "id": "60e67108-bb86-44ab-b70d-d53bb1e645a8",
   "metadata": {
    "tags": []
   },
   "outputs": [
    {
     "name": "stdout",
     "output_type": "stream",
     "text": [
      "{'matches': [{'id': '101',\n",
      "              'metadata': {'text': 'represent WHO at the ad hoc Working Group '\n",
      "                                   'for the COVID-19 response. The Regional '\n",
      "                                   'office also regularly \\n'\n",
      "                                   'engages in deep-dive calls with WCOs to '\n",
      "                                   'discuss in-depth epidemiological analysis, '\n",
      "                                   'transmission scenarios \\n'\n",
      "                                   'and strategic priorities across the nine '\n",
      "                                   'pillars.\\n'\n",
      "                                   'Region of the Americas\\n'\n",
      "                                   'The first case of COVID-19 in the Americas '\n",
      "                                   'was confirmed in the USA on 20 \\n'\n",
      "                                   'January 2020, followed by Brazil on 26 '\n",
      "                                   'February 2020. Since then, COVID-19 \\n'\n",
      "                                   'has spread to all 54 countries and '\n",
      "                                   'territories in the Americas, which is '\n",
      "                                   'currently \\n'\n",
      "                                   'considered one of the globe’s major '\n",
      "                                   'epicenters. PAHO/WHO activated regional \\n'\n",
      "                                   'and country incident management system '\n",
      "                                   'teams to provide direct emergency \\n'\n",
      "                                   'planning and response support to '\n",
      "                                   'Ministries of Health and other national \\n'\n",
      "                                   'authorities for surveillance, laboratory '\n",
      "                                   'capacity, support health care services, \\n'\n",
      "                                   'infection prevention control, clinical '\n",
      "                                   'management and risk communication. By \\n'\n",
      "                                   'the end of April, 32 of 35 countries had '\n",
      "                                   'COVID-19 preparedness and response'},\n",
      "              'score': 0.846522629,\n",
      "              'values': []},\n",
      "             {'id': '6',\n",
      "              'metadata': {'text': '1 2\\n'\n",
      "                                   ' \\n'\n",
      "                                   'COVID-19: February–June progress report\\n'\n",
      "                                   '  \\n'\n",
      "                                   '    COVID-19: February–June progress '\n",
      "                                   'report\\n'\n",
      "                                   'FOREWORD\\n'\n",
      "                                   'More than six months since the world first '\n",
      "                                   'learned of what we now call COVID-19, the '\n",
      "                                   'time is \\n'\n",
      "                                   'right to take stock of where we are in the '\n",
      "                                   'outbreak and how the world has '\n",
      "                                   'responded. \\n'\n",
      "                                   'The pandemic has already taken a terrible '\n",
      "                                   'toll. By the end of June 2020, WHO had '\n",
      "                                   'received \\n'\n",
      "                                   'reports of almost 10 million cases and '\n",
      "                                   'half a million lives lost. The pandemic '\n",
      "                                   'continues to \\n'\n",
      "                                   'accelerate; at the current rate, cases are '\n",
      "                                   'doubling around every six weeks. We are '\n",
      "                                   'facing a \\n'\n",
      "                                   'moment of great danger. We can only '\n",
      "                                   'prevail if we stand together in global '\n",
      "                                   'solidarity. \\n'\n",
      "                                   'COVID-19 will always take the path of '\n",
      "                                   'least resistance. We know that when '\n",
      "                                   'countries take \\n'\n",
      "                                   'a comprehensive approach based on '\n",
      "                                   'fundamental public health measures and a '\n",
      "                                   'whole-\\n'\n",
      "                                   'of-society approach, COVID-19 can be '\n",
      "                                   'brought under control, saving lives and '\n",
      "                                   'enabling'},\n",
      "              'score': 0.827042222,\n",
      "              'values': []},\n",
      "             {'id': '115',\n",
      "              'metadata': {'text': '29 30\\n'\n",
      "                                   ' \\n'\n",
      "                                   'COVID-19: February–June progress report\\n'\n",
      "                                   '  \\n'\n",
      "                                   '    COVID-19: February–June progress '\n",
      "                                   'report\\n'\n",
      "                                   'Surveillance, rapid-response teams and '\n",
      "                                   'case \\n'\n",
      "                                   'investigation, and national laboratories\\n'\n",
      "                                   'Stopping the spread of COVID-19 requires '\n",
      "                                   'finding and testing \\n'\n",
      "                                   'all suspected cases so that confirmed '\n",
      "                                   'cases are promptly \\n'\n",
      "                                   'and effectively isolated and receive '\n",
      "                                   'appropriate care, and the \\n'\n",
      "                                   'close contacts of all confirmed cases are '\n",
      "                                   'rapidly identified so \\n'\n",
      "                                   'that they can be quarantined and medically '\n",
      "                                   'monitored for the \\n'\n",
      "                                   '14-day incubation period of the virus. To '\n",
      "                                   'achieve this, countries \\n'\n",
      "                                   'and communities must fundamentally '\n",
      "                                   'increase their capacity to \\n'\n",
      "                                   'identify suspected cases of COVID-19 in '\n",
      "                                   'the general population \\n'\n",
      "                                   'quickly based on the onset of signs or '\n",
      "                                   'symptoms. WHO has \\n'\n",
      "                                   'worked closely with national authorities '\n",
      "                                   'to ensure that all countries \\n'\n",
      "                                   'have access to diagnostic testing as part '\n",
      "                                   'of surveillance strategies \\n'\n",
      "                                   'based on WHO guidance. By the end of June, '\n",
      "                                   '99% of countries'},\n",
      "              'score': 0.825000882,\n",
      "              'values': []}],\n",
      " 'namespace': 'all-users',\n",
      " 'usage': {'read_units': 6}}\n"
     ]
    }
   ],
   "source": [
    "# Define your query\n",
    "query = \"When was the first COVID case discovered in the United States?\"\n",
    "\n",
    "# Convert the query into an embedding using the same model as the documents\n",
    "embeddings = OpenAIEmbeddings(model=\"text-embedding-ada-002\")\n",
    "query_embedding = embeddings.embed_query(query)\n",
    "\n",
    "# Search the Pinecone index\n",
    "results = index.query(\n",
    "    namespace=\"all-users\",\n",
    "    vector=query_embedding,\n",
    "    top_k=3,\n",
    "    include_values=False,\n",
    "    include_metadata=True\n",
    ")\n",
    "\n",
    "print(results)\n"
   ]
  },
  {
   "cell_type": "code",
   "execution_count": null,
   "id": "cd5b66e7-e624-4a04-ac44-78ee3900c574",
   "metadata": {},
   "outputs": [],
   "source": []
  }
 ],
 "metadata": {
  "kernelspec": {
   "display_name": "Python 3 (ipykernel)",
   "language": "python",
   "name": "python3"
  },
  "language_info": {
   "codemirror_mode": {
    "name": "ipython",
    "version": 3
   },
   "file_extension": ".py",
   "mimetype": "text/x-python",
   "name": "python",
   "nbconvert_exporter": "python",
   "pygments_lexer": "ipython3",
   "version": "3.11.5"
  }
 },
 "nbformat": 4,
 "nbformat_minor": 5
}
