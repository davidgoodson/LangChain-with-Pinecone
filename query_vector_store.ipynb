{
 "cells": [
  {
   "cell_type": "code",
   "execution_count": null,
   "id": "7e1d420f-c1d4-4375-93dd-895640775b05",
   "metadata": {
    "tags": []
   },
   "outputs": [],
   "source": [
    "import os\n",
    "from dotenv import load_dotenv\n",
    "from langchain_community.document_loaders import PyPDFLoader\n",
    "from langchain_community.document_loaders import UnstructuredEPubLoader\n",
    "from langchain_openai import OpenAIEmbeddings\n",
    "from langchain_pinecone import PineconeVectorStore\n",
    "\n",
    "\n",
    "import pinecone\n",
    "from pinecone import ServerlessSpec\n",
    "import time\n",
    "\n",
    "load_dotenv()\n",
    "os.environ['OPENAI_API_KEY'] = os.getenv(\"OPENAI_API_KEY\") #langchain searches for this key and loads it automatically\n",
    "os.environ['PINECONE_API_KEY'] = os.getenv(\"PINECONE_API_KEY\") #langchain searches for this key and loads it automatically"
   ]
  },
  {
   "cell_type": "code",
   "execution_count": 2,
   "id": "44e06128-4e47-413e-91ed-c63013544376",
   "metadata": {
    "tags": []
   },
   "outputs": [],
   "source": [
    "# Load PDF File\n",
    "loader = PyPDFLoader('./assets/srp-covid-19-6month.pdf')\n",
    "pdf = loader.load()"
   ]
  },
  {
   "cell_type": "code",
   "execution_count": null,
   "id": "302b3fb5-71f8-4e82-baee-f565147b02d8",
   "metadata": {
    "tags": []
   },
   "outputs": [],
   "source": [
    "# Pinecone index name\n",
    "index_name = \"rag-project\"\n",
    "\n",
    "# embeddings using OpenAI \"text-embedding-ada-002\"\n",
    "embed_model = OpenAIEmbeddings(model=\"text-embedding-ada-002\")\n",
    "\n",
    "# Create the vector store\n",
    "vectorstore = PineconeVectorStore.from_existing_index(\n",
    "    index_name=index_name, \n",
    "    embedding=embed_model, \n",
    "    text_key=\"text\", # the key containing the text chunks in the meta data\n",
    "    namespace=\"all-users\", # optional if you didn't set a name space\n",
    "    pool_threads=4\n",
    ")"
   ]
  },
  {
   "cell_type": "code",
   "execution_count": 16,
   "id": "bbaf3a9b",
   "metadata": {},
   "outputs": [
    {
     "data": {
      "text/plain": [
       "{'query': 'When was thef first covid case?',\n",
       " 'result': 'The first known cases of COVID-19 were reported in December 2019 in Wuhan, China.'}"
      ]
     },
     "execution_count": 16,
     "metadata": {},
     "output_type": "execute_result"
    }
   ],
   "source": [
    "# Creat the QA Chain\n",
    "from langchain_openai import ChatOpenAI\n",
    "from langchain.chains import RetrievalQA\n",
    "\n",
    "llm = ChatOpenAI(\n",
    "    model=\"gpt-4o\",\n",
    "    temperature=0\n",
    ")\n",
    "\n",
    "qa = RetrievalQA.from_chain_type(\n",
    "    llm = llm,\n",
    "    chain_type = \"stuff\",\n",
    "    retriever = vectorstore.as_retriever()\n",
    ")\n",
    "\n",
    "query = \"When was thef first covid case?\"\n",
    "\n",
    "qa.invoke(query)\n",
    "\n"
   ]
  },
  {
   "cell_type": "markdown",
   "id": "74708917",
   "metadata": {},
   "source": [
    "#### Recievers"
   ]
  },
  {
   "cell_type": "code",
   "execution_count": null,
   "id": "cd5b66e7-e624-4a04-ac44-78ee3900c574",
   "metadata": {},
   "outputs": [],
   "source": [
    "# Import Ollama LLM\n",
    "from langchain_ollama import OllamaLLM\n",
    "\n",
    "# Load Ollama LAMA2 LLM Model\n",
    "llm = OllamaLLM(model='llama2 ')\n",
    "\n",
    "# Design Chat Prompt Template\n",
    "from langchain_core.prompts import ChatPromptTemplate\n",
    "prompt = ChatPromptTemplate.from_template(\"\"\"\n",
    "    Answer the following question based only on the provided context.\n",
    "    Think step by step before providing a detailed answer.\n",
    "    I will tip you $1000 if the user finds the answer helpful.\n",
    "    <context>\n",
    "        {context}\n",
    "    </context>\n",
    "    Question: {input}\"\"\")\n",
    "\n",
    "# Chain Introduction\n",
    "\n",
    "# Create Stuff Document Chain\n",
    "from langchain.chains.combine_documents import create_stuff_documents_chain\n",
    " \n",
    "document_chain = create_stuff_documents_chain(llm, prompt)\n",
    "\n",
    "# Retrievers\n",
    "from langchain.chains import create_retrieval_chain\n",
    "\n",
    "retrieval_chain = create_retrieval_chain(retriever, document_chain)\n",
    "retrieval_chain.invoke({\"input\": query})"
   ]
  }
 ],
 "metadata": {
  "kernelspec": {
   "display_name": "base",
   "language": "python",
   "name": "python3"
  },
  "language_info": {
   "codemirror_mode": {
    "name": "ipython",
    "version": 3
   },
   "file_extension": ".py",
   "mimetype": "text/x-python",
   "name": "python",
   "nbconvert_exporter": "python",
   "pygments_lexer": "ipython3",
   "version": "3.11.5"
  }
 },
 "nbformat": 4,
 "nbformat_minor": 5
}
